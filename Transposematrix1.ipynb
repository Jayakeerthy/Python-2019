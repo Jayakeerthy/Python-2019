{
 "cells": [
  {
   "cell_type": "code",
   "execution_count": 33,
   "metadata": {},
   "outputs": [
    {
     "name": "stdout",
     "output_type": "stream",
     "text": [
      "Given matrix [[12, 7], [4, 5], [3, 8], [5, 6]]\n",
      "[12, 4, 3, 5]\n",
      "[7, 5, 8, 6]\n"
     ]
    }
   ],
   "source": [
    "x=[[12,7],\n",
    "[4,5],\n",
    "[3,8,],[5,6]]\n",
    "\n",
    "print(\"Given matrix\",x)\n",
    "\n",
    "result=[[0,0,0,0],\n",
    "        [0,0,0,0]]\n",
    "\n",
    "\n",
    "#iterate through rows\n",
    "\n",
    "for i in range(len(x)):\n",
    "    \n",
    "    #iterate through columns\n",
    "    for j in range(len(x[0])):\n",
    "             \n",
    "        result[j][i] = x[i][j]\n",
    "       \n",
    "\n",
    "for r in result:\n",
    "    print(r)\n",
    "\n",
    "\n",
    "    "
   ]
  },
  {
   "cell_type": "code",
   "execution_count": null,
   "metadata": {},
   "outputs": [],
   "source": []
  }
 ],
 "metadata": {
  "kernelspec": {
   "display_name": "Python 3",
   "language": "python",
   "name": "python3"
  },
  "language_info": {
   "codemirror_mode": {
    "name": "ipython",
    "version": 3
   },
   "file_extension": ".py",
   "mimetype": "text/x-python",
   "name": "python",
   "nbconvert_exporter": "python",
   "pygments_lexer": "ipython3",
   "version": "3.6.4"
  }
 },
 "nbformat": 4,
 "nbformat_minor": 2
}
