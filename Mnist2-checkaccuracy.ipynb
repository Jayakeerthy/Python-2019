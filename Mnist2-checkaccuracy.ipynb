{
 "cells": [
  {
   "cell_type": "code",
   "execution_count": 16,
   "metadata": {},
   "outputs": [
    {
     "name": "stdout",
     "output_type": "stream",
     "text": [
      "[[1 0 0 ... 0 0 0]\n",
      " [0 0 0 ... 0 0 0]\n",
      " [1 0 0 ... 0 0 0]\n",
      " ...\n",
      " [7 0 0 ... 0 0 0]\n",
      " [6 0 0 ... 0 0 0]\n",
      " [9 0 0 ... 0 0 0]]\n",
      "[6]\n"
     ]
    },
    {
     "data": {
      "image/png": "[encoded data removed]",
      "text/plain": [
       "<Figure size 432x288 with 1 Axes>"
      ]
     },
     "metadata": {
      "needs_background": "light"
     },
     "output_type": "display_data"
    }
   ],
   "source": [
    "import numpy as np\n",
    "import pandas as pd\n",
    "import matplotlib.pyplot as pt\n",
    "from sklearn.tree import DecisionTreeClassifier\n",
    "\n",
    "mnistdata=pd.read_csv(\"mnist_train.csv\")\n",
    "data=mnistdata.values\n",
    "print(data)\n",
    "\n",
    "clf=DecisionTreeClassifier()\n",
    "\n",
    "#traininig dataset\n",
    "xtrain=data[0:21000,1:]\n",
    "train_label=data[0:21000,0]\n",
    "\n",
    "clf.fit(xtrain,train_label)\n",
    "\n",
    "#testing data\n",
    "xtest=data[21000:,1:]\n",
    "actual_label=data[21000:,0]\n",
    "\n",
    "d=xtest[25]  #sample from test\n",
    "d.shape=(28,28)\n",
    "#pt.imshow(d,cmap='gray')  #black background\n",
    "#pt.show()\n",
    "\n",
    "pt.imshow(255-d,cmap='gray')  #white background\n",
    "print(clf.predict([xtest[25]]))\n",
    "pt.show()\n"
   ]
  },
  {
   "cell_type": "code",
   "execution_count": 15,
   "metadata": {},
   "outputs": [
    {
     "name": "stdout",
     "output_type": "stream",
     "text": [
      "Accuracy= 83.61904761904762\n"
     ]
    }
   ],
   "source": [
    "#predict entire test data, check accuracy\n",
    "p=clf.predict(xtest)\n",
    "\n",
    "count=0\n",
    "for i in range(0,21000):\n",
    "    count+=1 if p[i]==actual_label[i] else 0\n",
    "print(\"Accuracy=\", (count/21000)*100)"
   ]
  },
  {
   "cell_type": "code",
   "execution_count": null,
   "metadata": {},
   "outputs": [],
   "source": []
  }
 ],
 "metadata": {
  "kernelspec": {
   "display_name": "Python 3",
   "language": "python",
   "name": "python3"
  },
  "language_info": {
   "codemirror_mode": {
    "name": "ipython",
    "version": 3
   },
   "file_extension": ".py",
   "mimetype": "text/x-python",
   "name": "python",
   "nbconvert_exporter": "python",
   "pygments_lexer": "ipython3",
   "version": "3.7.3"
  }
 },
 "nbformat": 4,
 "nbformat_minor": 2
}
