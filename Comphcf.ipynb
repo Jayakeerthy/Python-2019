{
 "cells": [
  {
   "cell_type": "code",
   "execution_count": 4,
   "metadata": {},
   "outputs": [
    {
     "name": "stdout",
     "output_type": "stream",
     "text": [
      "Enter the first number: 10\n",
      "Enter the second number: 20\n",
      "HCF of 10 and 20 is :10\n"
     ]
    }
   ],
   "source": [
    "#computing HCF of two numbers\n",
    "\n",
    "def comphcf(a,b):\n",
    "    ''' this functions computes \n",
    "    hcf of two numbers'''\n",
    "    \n",
    "    small=b if a > b else a \n",
    "    \n",
    "    hcf = 1\n",
    "    \n",
    "    for i in range(1,small+1):\n",
    "        if (a%i==0)and(b%i==0):\n",
    "            hcf=i\n",
    "    return hcf\n",
    "#num1 = 10\n",
    "#num2 = 20\n",
    "num1 = int(input(\"Enter the first number: \",))\n",
    "num2 = int(input(\"Enter the second number: \"))\n",
    "\n",
    "print(\"HCF of {0} and {1} is :{2}\".format(num1,num2,comphcf(num1,num2)))"
   ]
  },
  {
   "cell_type": "markdown",
   "metadata": {},
   "source": []
  }
 ],
 "metadata": {
  "kernelspec": {
   "display_name": "Python 3",
   "language": "python",
   "name": "python3"
  },
  "language_info": {
   "codemirror_mode": {
    "name": "ipython",
    "version": 3
   },
   "file_extension": ".py",
   "mimetype": "text/x-python",
   "name": "python",
   "nbconvert_exporter": "python",
   "pygments_lexer": "ipython3",
   "version": "3.6.4"
  }
 },
 "nbformat": 4,
 "nbformat_minor": 2
}
