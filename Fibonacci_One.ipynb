{
 "cells": [
  {
   "cell_type": "code",
   "execution_count": 3,
   "metadata": {},
   "outputs": [
    {
     "name": "stdout",
     "output_type": "stream",
     "text": [
      "how many terms? 5\n",
      "Fibonacci sequence: \n",
      "0 : 0\n",
      "1 : 1\n",
      "2 : 1\n",
      "3 : 2\n",
      "4 : 3\n"
     ]
    }
   ],
   "source": [
    "#fibonacci sequence - 0,1,1,2,3,5,8....\n",
    "#the first two terms are 0 and 1..all other items are obtained by adding the\n",
    "#preceding two terms.This means to say the nth term is the sum of (n-1)th and (n-2)th term.\n",
    "###############using RECURSIVE function############################\n",
    "\n",
    "def recur_fibo(n):\n",
    "    '''recursive function to print \n",
    "    fibonacci sequence'''\n",
    "    \n",
    "    if n<=1:\n",
    "        return n\n",
    "    else:\n",
    "        return(recur_fibo(n-1) + recur_fibo(n-2))\n",
    "        \n",
    "#Change this result for different result\n",
    "\n",
    "#nterms = 10\n",
    "nterms = int(input(\"how many terms? \"))\n",
    "\n",
    "if nterms<=0:\n",
    "    print(\"please enter a positive interger\")\n",
    "else:\n",
    "    print(\"Fibonacci sequence: \" )\n",
    "    for i in range(nterms):\n",
    "        print(i,\":\",recur_fibo(i))\n"
   ]
  },
  {
   "cell_type": "code",
   "execution_count": null,
   "metadata": {},
   "outputs": [],
   "source": []
  }
 ],
 "metadata": {
  "kernelspec": {
   "display_name": "Python 3",
   "language": "python",
   "name": "python3"
  },
  "language_info": {
   "codemirror_mode": {
    "name": "ipython",
    "version": 3
   },
   "file_extension": ".py",
   "mimetype": "text/x-python",
   "name": "python",
   "nbconvert_exporter": "python",
   "pygments_lexer": "ipython3",
   "version": "3.6.4"
  }
 },
 "nbformat": 4,
 "nbformat_minor": 2
}
