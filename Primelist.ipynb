{
 "cells": [
  {
   "cell_type": "code",
   "execution_count": 1,
   "metadata": {},
   "outputs": [
    {
     "name": "stdout",
     "output_type": "stream",
     "text": [
      "enter a lower range: 10\n",
      "enter a upper range: 50\n",
      "prime numbers between 10 and 50 are: \n",
      "11\n",
      "13\n",
      "17\n",
      "19\n",
      "23\n",
      "29\n",
      "31\n",
      "37\n",
      "41\n",
      "43\n",
      "47\n"
     ]
    }
   ],
   "source": [
    "#python program to display all the prime numbers within an interval\n",
    "\n",
    "#change the values of lower and upper for a different result\n",
    "\n",
    "lower=int(input(\"enter a lower range: \"))\n",
    "upper=int(input(\"enter a upper range: \"))\n",
    "\n",
    "print(\"prime numbers between\",lower,\"and\",upper,\"are: \")\n",
    "\n",
    "for num in range(lower,upper+1):\n",
    "    \n",
    "    #prime numbers are greater than 1\n",
    "    if num > 1:\n",
    "        for i in range(2,num):\n",
    "            if (num%i)==0:\n",
    "                break\n",
    "        else:\n",
    "            print(num)\n"
   ]
  },
  {
   "cell_type": "code",
   "execution_count": null,
   "metadata": {},
   "outputs": [],
   "source": []
  }
 ],
 "metadata": {
  "kernelspec": {
   "display_name": "Python 3",
   "language": "python",
   "name": "python3"
  },
  "language_info": {
   "codemirror_mode": {
    "name": "ipython",
    "version": 3
   },
   "file_extension": ".py",
   "mimetype": "text/x-python",
   "name": "python",
   "nbconvert_exporter": "python",
   "pygments_lexer": "ipython3",
   "version": "3.6.4"
  }
 },
 "nbformat": 4,
 "nbformat_minor": 2
}
