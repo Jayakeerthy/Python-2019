{
 "cells": [
  {
   "cell_type": "code",
   "execution_count": 6,
   "metadata": {},
   "outputs": [
    {
     "name": "stdout",
     "output_type": "stream",
     "text": [
      "by normal method [1, 4, 9, 16]\n",
      "--------------------------------------------------\n",
      "by map method [1, 4, 9, 16]\n"
     ]
    }
   ],
   "source": [
    "#map function\n",
    "#map applies a function to all items in an input list\n",
    "# syntax: map(function_to_apply,list_of_inputs)\n",
    "numbers = [1,2,3,4]\n",
    "\n",
    "#normal method\n",
    "\n",
    "squared =[]\n",
    "for num in numbers:\n",
    "    squared.append(num**2)\n",
    "print(\"by normal method\",squared)\n",
    "print(\"--------------------------------------------------\")\n",
    "\n",
    "################################################################\n",
    "\n",
    "\n",
    "#by map method\n",
    "\n",
    "def poweroftwo(num):\n",
    "    return num**2\n",
    "squares = list(map(poweroftwo,numbers))\n",
    "print(\"by map method\",squares)"
   ]
  },
  {
   "cell_type": "code",
   "execution_count": null,
   "metadata": {},
   "outputs": [],
   "source": []
  }
 ],
 "metadata": {
  "kernelspec": {
   "display_name": "Python 3",
   "language": "python",
   "name": "python3"
  },
  "language_info": {
   "codemirror_mode": {
    "name": "ipython",
    "version": 3
   },
   "file_extension": ".py",
   "mimetype": "text/x-python",
   "name": "python",
   "nbconvert_exporter": "python",
   "pygments_lexer": "ipython3",
   "version": "3.6.4"
  }
 },
 "nbformat": 4,
 "nbformat_minor": 2
}
