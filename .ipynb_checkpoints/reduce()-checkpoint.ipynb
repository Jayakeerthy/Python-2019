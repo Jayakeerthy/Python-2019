{
 "cells": [
  {
   "cell_type": "code",
   "execution_count": 2,
   "metadata": {},
   "outputs": [
    {
     "name": "stdout",
     "output_type": "stream",
     "text": [
      "by traditional approach 24\n",
      "------------------------------------------\n",
      "------------------------------------------\n",
      "by reduce method 24\n"
     ]
    }
   ],
   "source": [
    "#reduce() method\n",
    "#reduce() function is for performing some computation on a list and returning the result.\n",
    "#it applies a rolling computation to sequential pairs of values in a list.\n",
    "\n",
    "#syntax : reduce(function name, list_of_numbers)\n",
    "\n",
    "#product of element of list\n",
    "product=1\n",
    "lst=[1,2,3,4]\n",
    "#traditional program without reduce()\n",
    "\n",
    "for num in lst:\n",
    "    product*=num\n",
    "print(\"by traditional approach\",product)\n",
    "print(\"------------------------------------------\")\n",
    "\n",
    "#by reduce method\n",
    "print(\"------------------------------------------\")\n",
    "\n",
    "from functools import reduce     #need to import in python3\n",
    "def multiply(x,y):\n",
    "    return x*y;\n",
    "product = reduce(multiply,lst)\n",
    "print(\"by reduce method\",product)"
   ]
  },
  {
   "cell_type": "code",
   "execution_count": null,
   "metadata": {},
   "outputs": [],
   "source": []
  }
 ],
 "metadata": {
  "kernelspec": {
   "display_name": "Python 3",
   "language": "python",
   "name": "python3"
  },
  "language_info": {
   "codemirror_mode": {
    "name": "ipython",
    "version": 3
   },
   "file_extension": ".py",
   "mimetype": "text/x-python",
   "name": "python",
   "nbconvert_exporter": "python",
   "pygments_lexer": "ipython3",
   "version": "3.6.4"
  }
 },
 "nbformat": 4,
 "nbformat_minor": 2
}
