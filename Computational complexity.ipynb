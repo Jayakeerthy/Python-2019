{
 "cells": [
  {
   "cell_type": "code",
   "execution_count": 8,
   "metadata": {},
   "outputs": [
    {
     "name": "stdout",
     "output_type": "stream",
     "text": [
      "Found\n"
     ]
    }
   ],
   "source": [
    "#SPACE AND TIME COMPLEXITY:\n",
    "\n",
    "import numpy as np\n",
    "import random\n",
    "\n",
    "l = list(range(100))\n",
    "random.shuffle(l)\n",
    "l\n",
    "\n",
    "# search for an element q in the list: 0(n) where n is the length of the list\n",
    "\n",
    "q = 31\n",
    "isFound=False;\n",
    "for ele in l:\n",
    "    if ele==31:\n",
    "        print(\"Found\")\n",
    "        isFound=True\n",
    "        break;\n",
    "if isFound==False:\n",
    "    print(\"Not Found\")"
   ]
  },
  {
   "cell_type": "code",
   "execution_count": 26,
   "metadata": {},
   "outputs": [
    {
     "name": "stdout",
     "output_type": "stream",
     "text": [
      "Element is present at index 3.5\n"
     ]
    }
   ],
   "source": [
    "#Binary Search\n",
    "#list needs to be sorted\n",
    "\n",
    "import math\n",
    "import numpy as np\n",
    "import random\n",
    "# Python Program for recursive binary search. \n",
    "  \n",
    "# Returns index of x in arr if present, else -1 \n",
    "def binarySearch (arr, l, r, x): \n",
    "  \n",
    "    # Check base case \n",
    "    if r >= l: \n",
    "  \n",
    "        mid = l + (r - l)/2\n",
    "  \n",
    "        # If element is present at the middle itself \n",
    "        if arr[int(mid)] == x: \n",
    "            return mid \n",
    "          \n",
    "        # If element is smaller than mid, then it  \n",
    "        # can only be present in left subarray \n",
    "        elif arr[int(mid)] > x: \n",
    "            return binarySearch(arr, l, mid-1, x) \n",
    "  \n",
    "        # Else the element can only be present  \n",
    "        # in right subarray \n",
    "        else: \n",
    "            return binarySearch(arr, mid + 1, r, x) \n",
    "  \n",
    "    else: \n",
    "        # Element is not present in the array \n",
    "        return -1\n",
    "  \n",
    "# Test array \n",
    "arr = [ 2, 3, 4, 10, 40 ] \n",
    "x = 10\n",
    "  \n",
    "# Function call \n",
    "result = binarySearch(arr, 0, len(arr)-1, x) \n",
    "  \n",
    "if result != -1: \n",
    "    print(\"Element is present at index\", result )\n",
    "else: \n",
    "    print(\"Element is not present in array\")"
   ]
  },
  {
   "cell_type": "code",
   "execution_count": 24,
   "metadata": {},
   "outputs": [
    {
     "name": "stdout",
     "output_type": "stream",
     "text": [
      "[33, 43, 31, 29, 39, 35, 25, 37, 45, 27, 49, 47, 41]\n",
      "43\n",
      "47\n",
      "45\n",
      "49\n",
      "25\n",
      "39\n",
      "27\n",
      "33\n",
      "35\n",
      "37\n",
      "31\n",
      "29\n",
      "41\n",
      "number of common elements: 13\n"
     ]
    }
   ],
   "source": [
    "#Find elements common in two lists:\n",
    "l1 = list(range(100))\n",
    "random.shuffle(l1)\n",
    "\n",
    "l2 = list(range(25,50,2))\n",
    "random.shuffle(l2)\n",
    "print(l2)\n",
    "\n",
    "#find common elements :o(n*m)\n",
    "cnt=0;\n",
    "\n",
    "for i in l1:\n",
    "    for j in l2:\n",
    "        if i==j:\n",
    "            print(i)\n",
    "            cnt+=1;\n",
    "print(\"number of common elements:\",cnt)"
   ]
  },
  {
   "cell_type": "code",
   "execution_count": 27,
   "metadata": {},
   "outputs": [
    {
     "name": "stdout",
     "output_type": "stream",
     "text": [
      "41\n",
      "30\n",
      "23\n",
      "20\n",
      "10\n",
      "38\n",
      "27\n",
      "42\n",
      "22\n",
      "15\n",
      "34\n",
      "49\n",
      "47\n",
      "16\n",
      "28\n",
      "35\n",
      "17\n",
      "5\n",
      "13\n",
      "1\n",
      "48\n",
      "29\n",
      "44\n",
      "31\n",
      "11\n",
      "0\n",
      "19\n",
      "24\n",
      "37\n",
      "21\n",
      "46\n",
      "18\n",
      "25\n",
      "12\n",
      "6\n",
      "32\n",
      "39\n",
      "4\n",
      "8\n",
      "36\n",
      "9\n",
      "14\n",
      "43\n",
      "7\n",
      "33\n",
      "40\n",
      "3\n",
      "2\n",
      "45\n",
      "26\n",
      "number of common elements: 50\n"
     ]
    }
   ],
   "source": [
    "#Find elements common in two lists:\n",
    "l1 = list(range(100))\n",
    "random.shuffle(l1)\n",
    "\n",
    "l2 = list(range(50))\n",
    "random.shuffle(l2)\n",
    "\n",
    "#find common elements in lists in O(n) time and O(m) space if m<n\n",
    "\n",
    "## add all elements in the smallest list into a hashtable/Dict: O(m) space\n",
    "smallList ={}\n",
    "for ele in l2:\n",
    "    smallList[ele] = 1; #any value is OK. Key is important\n",
    "    \n",
    "# Now find common element\n",
    "cnt = 0;\n",
    "for i in l1:\n",
    "    if smallList.get(i) !=None: #search happens in constant time.\n",
    "        print(i);\n",
    "        cnt+=1;\n",
    "print(\"number of common elements:\",cnt)\n",
    "        \n",
    "        "
   ]
  },
  {
   "cell_type": "code",
   "execution_count": null,
   "metadata": {},
   "outputs": [],
   "source": []
  }
 ],
 "metadata": {
  "kernelspec": {
   "display_name": "Python 3",
   "language": "python",
   "name": "python3"
  },
  "language_info": {
   "codemirror_mode": {
    "name": "ipython",
    "version": 3
   },
   "file_extension": ".py",
   "mimetype": "text/x-python",
   "name": "python",
   "nbconvert_exporter": "python",
   "pygments_lexer": "ipython3",
   "version": "3.6.4"
  }
 },
 "nbformat": 4,
 "nbformat_minor": 2
}
